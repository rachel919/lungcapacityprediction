{
 "cells": [
  {
   "cell_type": "code",
   "execution_count": 1,
   "id": "179ec9ab",
   "metadata": {},
   "outputs": [],
   "source": [
    "import pandas as pd"
   ]
  },
  {
   "cell_type": "code",
   "execution_count": 2,
   "id": "ba91c4fb",
   "metadata": {},
   "outputs": [
    {
     "data": {
      "text/html": [
       "<div>\n",
       "<style scoped>\n",
       "    .dataframe tbody tr th:only-of-type {\n",
       "        vertical-align: middle;\n",
       "    }\n",
       "\n",
       "    .dataframe tbody tr th {\n",
       "        vertical-align: top;\n",
       "    }\n",
       "\n",
       "    .dataframe thead th {\n",
       "        text-align: right;\n",
       "    }\n",
       "</style>\n",
       "<table border=\"1\" class=\"dataframe\">\n",
       "  <thead>\n",
       "    <tr style=\"text-align: right;\">\n",
       "      <th></th>\n",
       "      <th>LungCap</th>\n",
       "      <th>Age</th>\n",
       "      <th>Height</th>\n",
       "      <th>Smoke</th>\n",
       "      <th>Gender</th>\n",
       "      <th>Caesarean</th>\n",
       "    </tr>\n",
       "  </thead>\n",
       "  <tbody>\n",
       "    <tr>\n",
       "      <th>0</th>\n",
       "      <td>6.475</td>\n",
       "      <td>6</td>\n",
       "      <td>62.1</td>\n",
       "      <td>no</td>\n",
       "      <td>male</td>\n",
       "      <td>no</td>\n",
       "    </tr>\n",
       "    <tr>\n",
       "      <th>1</th>\n",
       "      <td>10.125</td>\n",
       "      <td>18</td>\n",
       "      <td>74.7</td>\n",
       "      <td>yes</td>\n",
       "      <td>female</td>\n",
       "      <td>no</td>\n",
       "    </tr>\n",
       "    <tr>\n",
       "      <th>2</th>\n",
       "      <td>9.550</td>\n",
       "      <td>16</td>\n",
       "      <td>69.7</td>\n",
       "      <td>no</td>\n",
       "      <td>female</td>\n",
       "      <td>yes</td>\n",
       "    </tr>\n",
       "    <tr>\n",
       "      <th>3</th>\n",
       "      <td>11.125</td>\n",
       "      <td>14</td>\n",
       "      <td>71.0</td>\n",
       "      <td>no</td>\n",
       "      <td>male</td>\n",
       "      <td>no</td>\n",
       "    </tr>\n",
       "    <tr>\n",
       "      <th>4</th>\n",
       "      <td>4.800</td>\n",
       "      <td>5</td>\n",
       "      <td>56.9</td>\n",
       "      <td>no</td>\n",
       "      <td>male</td>\n",
       "      <td>no</td>\n",
       "    </tr>\n",
       "  </tbody>\n",
       "</table>\n",
       "</div>"
      ],
      "text/plain": [
       "   LungCap  Age  Height Smoke  Gender Caesarean\n",
       "0    6.475    6    62.1    no    male        no\n",
       "1   10.125   18    74.7   yes  female        no\n",
       "2    9.550   16    69.7    no  female       yes\n",
       "3   11.125   14    71.0    no    male        no\n",
       "4    4.800    5    56.9    no    male        no"
      ]
     },
     "execution_count": 2,
     "metadata": {},
     "output_type": "execute_result"
    }
   ],
   "source": [
    "lcn = pd.read_csv(r\"C:\\Users\\DELL\\Documents\\LungCapData.csv\")\n",
    "lcn.head()"
   ]
  },
  {
   "cell_type": "code",
   "execution_count": 3,
   "id": "95ef6919",
   "metadata": {},
   "outputs": [],
   "source": [
    "lcn.Gender = lcn.Gender.replace({'male':0 , 'female':1})\n",
    "lcn.Smoke = lcn.Smoke.replace({'no':0, 'yes':1})\n",
    "lcn.Caesarean= lcn.Caesarean.replace({'no':0 , 'yes':1})"
   ]
  },
  {
   "cell_type": "code",
   "execution_count": 4,
   "id": "5eb8f38a",
   "metadata": {},
   "outputs": [
    {
     "data": {
      "text/html": [
       "<div>\n",
       "<style scoped>\n",
       "    .dataframe tbody tr th:only-of-type {\n",
       "        vertical-align: middle;\n",
       "    }\n",
       "\n",
       "    .dataframe tbody tr th {\n",
       "        vertical-align: top;\n",
       "    }\n",
       "\n",
       "    .dataframe thead th {\n",
       "        text-align: right;\n",
       "    }\n",
       "</style>\n",
       "<table border=\"1\" class=\"dataframe\">\n",
       "  <thead>\n",
       "    <tr style=\"text-align: right;\">\n",
       "      <th></th>\n",
       "      <th>LungCap</th>\n",
       "      <th>Age</th>\n",
       "      <th>Height</th>\n",
       "      <th>Smoke</th>\n",
       "      <th>Gender</th>\n",
       "      <th>Caesarean</th>\n",
       "    </tr>\n",
       "  </thead>\n",
       "  <tbody>\n",
       "    <tr>\n",
       "      <th>0</th>\n",
       "      <td>6.475</td>\n",
       "      <td>6</td>\n",
       "      <td>62.1</td>\n",
       "      <td>0</td>\n",
       "      <td>0</td>\n",
       "      <td>0</td>\n",
       "    </tr>\n",
       "    <tr>\n",
       "      <th>1</th>\n",
       "      <td>10.125</td>\n",
       "      <td>18</td>\n",
       "      <td>74.7</td>\n",
       "      <td>1</td>\n",
       "      <td>1</td>\n",
       "      <td>0</td>\n",
       "    </tr>\n",
       "    <tr>\n",
       "      <th>2</th>\n",
       "      <td>9.550</td>\n",
       "      <td>16</td>\n",
       "      <td>69.7</td>\n",
       "      <td>0</td>\n",
       "      <td>1</td>\n",
       "      <td>1</td>\n",
       "    </tr>\n",
       "    <tr>\n",
       "      <th>3</th>\n",
       "      <td>11.125</td>\n",
       "      <td>14</td>\n",
       "      <td>71.0</td>\n",
       "      <td>0</td>\n",
       "      <td>0</td>\n",
       "      <td>0</td>\n",
       "    </tr>\n",
       "    <tr>\n",
       "      <th>4</th>\n",
       "      <td>4.800</td>\n",
       "      <td>5</td>\n",
       "      <td>56.9</td>\n",
       "      <td>0</td>\n",
       "      <td>0</td>\n",
       "      <td>0</td>\n",
       "    </tr>\n",
       "  </tbody>\n",
       "</table>\n",
       "</div>"
      ],
      "text/plain": [
       "   LungCap  Age  Height  Smoke  Gender  Caesarean\n",
       "0    6.475    6    62.1      0       0          0\n",
       "1   10.125   18    74.7      1       1          0\n",
       "2    9.550   16    69.7      0       1          1\n",
       "3   11.125   14    71.0      0       0          0\n",
       "4    4.800    5    56.9      0       0          0"
      ]
     },
     "execution_count": 4,
     "metadata": {},
     "output_type": "execute_result"
    }
   ],
   "source": [
    "lcn.head()"
   ]
  },
  {
   "cell_type": "code",
   "execution_count": 5,
   "id": "3d6a71ea",
   "metadata": {},
   "outputs": [],
   "source": [
    "from sklearn.model_selection import train_test_split\n",
    "\n",
    "lcn_train , lcn_test = train_test_split(lcn,test_size =.2)\n",
    "\n",
    "lcn_train_x = lcn_train.iloc[:,1::]\n",
    "lcn_train_y = lcn_train.iloc[:,0]\n",
    "lcn_test_x   = lcn_test.iloc[:,1::]\n",
    "lcn_test_y  = lcn_test.iloc[:,0]"
   ]
  },
  {
   "cell_type": "code",
   "execution_count": 6,
   "id": "cec48af9",
   "metadata": {},
   "outputs": [],
   "source": [
    "from sklearn.linear_model import LinearRegression\n",
    "linreg = LinearRegression()"
   ]
  },
  {
   "cell_type": "code",
   "execution_count": 7,
   "id": "9adae6b9",
   "metadata": {},
   "outputs": [
    {
     "data": {
      "text/html": [
       "<style>#sk-container-id-1 {color: black;}#sk-container-id-1 pre{padding: 0;}#sk-container-id-1 div.sk-toggleable {background-color: white;}#sk-container-id-1 label.sk-toggleable__label {cursor: pointer;display: block;width: 100%;margin-bottom: 0;padding: 0.3em;box-sizing: border-box;text-align: center;}#sk-container-id-1 label.sk-toggleable__label-arrow:before {content: \"▸\";float: left;margin-right: 0.25em;color: #696969;}#sk-container-id-1 label.sk-toggleable__label-arrow:hover:before {color: black;}#sk-container-id-1 div.sk-estimator:hover label.sk-toggleable__label-arrow:before {color: black;}#sk-container-id-1 div.sk-toggleable__content {max-height: 0;max-width: 0;overflow: hidden;text-align: left;background-color: #f0f8ff;}#sk-container-id-1 div.sk-toggleable__content pre {margin: 0.2em;color: black;border-radius: 0.25em;background-color: #f0f8ff;}#sk-container-id-1 input.sk-toggleable__control:checked~div.sk-toggleable__content {max-height: 200px;max-width: 100%;overflow: auto;}#sk-container-id-1 input.sk-toggleable__control:checked~label.sk-toggleable__label-arrow:before {content: \"▾\";}#sk-container-id-1 div.sk-estimator input.sk-toggleable__control:checked~label.sk-toggleable__label {background-color: #d4ebff;}#sk-container-id-1 div.sk-label input.sk-toggleable__control:checked~label.sk-toggleable__label {background-color: #d4ebff;}#sk-container-id-1 input.sk-hidden--visually {border: 0;clip: rect(1px 1px 1px 1px);clip: rect(1px, 1px, 1px, 1px);height: 1px;margin: -1px;overflow: hidden;padding: 0;position: absolute;width: 1px;}#sk-container-id-1 div.sk-estimator {font-family: monospace;background-color: #f0f8ff;border: 1px dotted black;border-radius: 0.25em;box-sizing: border-box;margin-bottom: 0.5em;}#sk-container-id-1 div.sk-estimator:hover {background-color: #d4ebff;}#sk-container-id-1 div.sk-parallel-item::after {content: \"\";width: 100%;border-bottom: 1px solid gray;flex-grow: 1;}#sk-container-id-1 div.sk-label:hover label.sk-toggleable__label {background-color: #d4ebff;}#sk-container-id-1 div.sk-serial::before {content: \"\";position: absolute;border-left: 1px solid gray;box-sizing: border-box;top: 0;bottom: 0;left: 50%;z-index: 0;}#sk-container-id-1 div.sk-serial {display: flex;flex-direction: column;align-items: center;background-color: white;padding-right: 0.2em;padding-left: 0.2em;position: relative;}#sk-container-id-1 div.sk-item {position: relative;z-index: 1;}#sk-container-id-1 div.sk-parallel {display: flex;align-items: stretch;justify-content: center;background-color: white;position: relative;}#sk-container-id-1 div.sk-item::before, #sk-container-id-1 div.sk-parallel-item::before {content: \"\";position: absolute;border-left: 1px solid gray;box-sizing: border-box;top: 0;bottom: 0;left: 50%;z-index: -1;}#sk-container-id-1 div.sk-parallel-item {display: flex;flex-direction: column;z-index: 1;position: relative;background-color: white;}#sk-container-id-1 div.sk-parallel-item:first-child::after {align-self: flex-end;width: 50%;}#sk-container-id-1 div.sk-parallel-item:last-child::after {align-self: flex-start;width: 50%;}#sk-container-id-1 div.sk-parallel-item:only-child::after {width: 0;}#sk-container-id-1 div.sk-dashed-wrapped {border: 1px dashed gray;margin: 0 0.4em 0.5em 0.4em;box-sizing: border-box;padding-bottom: 0.4em;background-color: white;}#sk-container-id-1 div.sk-label label {font-family: monospace;font-weight: bold;display: inline-block;line-height: 1.2em;}#sk-container-id-1 div.sk-label-container {text-align: center;}#sk-container-id-1 div.sk-container {/* jupyter's `normalize.less` sets `[hidden] { display: none; }` but bootstrap.min.css set `[hidden] { display: none !important; }` so we also need the `!important` here to be able to override the default hidden behavior on the sphinx rendered scikit-learn.org. See: https://github.com/scikit-learn/scikit-learn/issues/21755 */display: inline-block !important;position: relative;}#sk-container-id-1 div.sk-text-repr-fallback {display: none;}</style><div id=\"sk-container-id-1\" class=\"sk-top-container\"><div class=\"sk-text-repr-fallback\"><pre>LinearRegression()</pre><b>In a Jupyter environment, please rerun this cell to show the HTML representation or trust the notebook. <br />On GitHub, the HTML representation is unable to render, please try loading this page with nbviewer.org.</b></div><div class=\"sk-container\" hidden><div class=\"sk-item\"><div class=\"sk-estimator sk-toggleable\"><input class=\"sk-toggleable__control sk-hidden--visually\" id=\"sk-estimator-id-1\" type=\"checkbox\" checked><label for=\"sk-estimator-id-1\" class=\"sk-toggleable__label sk-toggleable__label-arrow\">LinearRegression</label><div class=\"sk-toggleable__content\"><pre>LinearRegression()</pre></div></div></div></div></div>"
      ],
      "text/plain": [
       "LinearRegression()"
      ]
     },
     "execution_count": 7,
     "metadata": {},
     "output_type": "execute_result"
    }
   ],
   "source": [
    "linreg.fit(lcn_train_x , lcn_train_y)   #model created"
   ]
  },
  {
   "cell_type": "code",
   "execution_count": 8,
   "id": "5025e807",
   "metadata": {},
   "outputs": [
    {
     "data": {
      "text/plain": [
       "0.8547854157398196"
      ]
     },
     "execution_count": 8,
     "metadata": {},
     "output_type": "execute_result"
    }
   ],
   "source": [
    "Rsquare = linreg.score(lcn_train_x , lcn_train_y)\n",
    "Rsquare"
   ]
  },
  {
   "cell_type": "code",
   "execution_count": 9,
   "id": "539dddcf",
   "metadata": {},
   "outputs": [
    {
     "data": {
      "text/plain": [
       "0.8535204803368563"
      ]
     },
     "execution_count": 9,
     "metadata": {},
     "output_type": "execute_result"
    }
   ],
   "source": [
    "N = lcn_train_x.shape[0]\n",
    "K = lcn_train_x.shape[1]\n",
    "\n",
    "Adjusted_Rsquare = 1-(1-Rsquare)*(N-1)/ (N-K-1)\n",
    "Adjusted_Rsquare"
   ]
  },
  {
   "cell_type": "code",
   "execution_count": 10,
   "id": "71c002ce",
   "metadata": {},
   "outputs": [
    {
     "data": {
      "text/plain": [
       "array([ 0.15796262,  0.26993191, -0.70694908, -0.43657408, -0.13600347])"
      ]
     },
     "execution_count": 10,
     "metadata": {},
     "output_type": "execute_result"
    }
   ],
   "source": [
    "linreg.coef_"
   ]
  },
  {
   "cell_type": "code",
   "execution_count": 11,
   "id": "688030c4",
   "metadata": {},
   "outputs": [],
   "source": [
    "pred_train = linreg.predict(lcn_train_x)\n",
    "# its doing prediction for all the records in lcn_train_x data"
   ]
  },
  {
   "cell_type": "code",
   "execution_count": 12,
   "id": "79db4f06",
   "metadata": {},
   "outputs": [
    {
     "data": {
      "text/plain": [
       "array([12.60747723,  3.459788  ,  5.06572086,  5.90650631,  6.38734971,\n",
       "        9.28021212, 11.53694058,  7.96899591, 10.20943077,  7.24817281,\n",
       "        7.63875357,  9.26935211, 10.18712061,  8.61683249,  5.57242787,\n",
       "       10.99188229,  9.05168257,  9.71043416,  7.61107388,  6.39638028,\n",
       "        5.68823327,  4.42354982,  9.33932461, 11.46212463, 10.83096066,\n",
       "        5.87438702,  3.94867945,  9.78854678,  9.1693724 ,  6.89093728,\n",
       "        7.02823075,  7.29583515,  8.52673029, 12.11360673, 10.43889931,\n",
       "        9.42662823,  8.72835871,  8.80978136,  5.32429468,  5.50560498,\n",
       "        3.18186303,  5.8485234 , 10.0021648 ,  9.61626706,  7.34410099,\n",
       "        9.90416159,  1.48460202,  4.24388054,  9.7731001 ,  3.72868239,\n",
       "       11.6707086 ,  7.46411834,  6.45504969,  7.17015225,  6.59633969,\n",
       "       11.5287871 ,  8.89944049,  8.13262407,  6.31540071,  3.68205757,\n",
       "       10.91194024,  7.97654589,  7.6840604 , 11.06190979,  5.64057093,\n",
       "       12.41156935, 10.80727751,  7.27412848,  7.98394451,  7.87197522,\n",
       "       10.06247522,  3.01590735, 10.81384497,  4.14493835,  9.7580965 ,\n",
       "        8.60079138,  7.39581485,  8.04261392, 10.19111714,  8.59446734,\n",
       "        5.85418895,  4.83876826, 10.89294011,  6.47804635,  5.93749603,\n",
       "        4.22660442,  8.11663795,  7.61295832,  6.27425084,  6.94492366,\n",
       "        6.74694075, 11.76304627,  4.85264228,  9.47029404, 11.37082449,\n",
       "        6.97487587,  9.50128376, 10.38006947,  7.37681472,  3.20816972,\n",
       "        4.74875811,  8.34690058, 10.57534586,  2.97919709,  7.3308214 ,\n",
       "        7.10989682,  8.38656986,  4.56779883,  6.9782409 ,  9.20668617,\n",
       "        4.4068772 ,  8.51285626, 11.6407564 , 10.60130153,  7.06721353,\n",
       "        9.72823636, 10.79997094,  4.85144435,  4.9864103 ,  7.44511821,\n",
       "        9.98316467,  3.00722779, 11.09585853,  6.13997138,  8.11264142,\n",
       "        6.85994756,  6.63428496,  8.53081888, 11.73673957, 10.33303864,\n",
       "        6.89389629,  9.25963504,  4.67680911,  7.75305038,  9.10270994,\n",
       "        5.17136611,  6.03244169, 11.42012784,  9.03040992,  6.73530218,\n",
       "        7.99366159,  7.35969902,  5.06339334,  2.77524115,  5.2126764 ,\n",
       "       10.33240714,  7.56073301,  8.62047801, 11.13987536,  6.55918635,\n",
       "        1.02571777,  9.00273023, 12.43387951, 11.4288074 ,  5.72954357,\n",
       "        7.08517615,  9.49448864,  5.36151638,  6.91393394,  4.92443086,\n",
       "        9.75522955, 12.78843651,  7.76468895,  8.12463101,  9.89538997,\n",
       "        6.07834295,  4.42354982,  8.43083917,  9.86251582, 10.52935253,\n",
       "       11.87856901,  6.12644837,  8.52153582,  8.2079381 ,  9.55759765,\n",
       "        9.02069285,  2.59028534, 10.737305  ,  7.79271966, 10.4253763 ,\n",
       "        8.94959077,  3.50578132, 11.1997427 ,  9.22168977, 11.74404613,\n",
       "       11.27317229,  6.44124403,  6.28441099,  8.74780192, 10.19596059,\n",
       "        9.39963504, 13.1123548 ,  6.48324082,  8.18494144,  7.25685237,\n",
       "        2.06646263,  7.46480483,  8.39855945,  8.03097535,  5.39763221,\n",
       "        7.11320685, 10.01248537,  3.99165876,  8.37156626, 10.20030813,\n",
       "        7.76400245,  7.09820325, 11.02390953,  7.61176038, 11.73101903,\n",
       "        9.110703  ,  6.94892019,  6.25040726,  5.59058108,  9.85920578,\n",
       "        5.77553689,  4.43786692,  6.49635999,  8.38553235, 12.47251128,\n",
       "       10.07046829,  9.51560086, 10.94292996,  7.01687266,  5.98748589,\n",
       "        9.52028389, 10.76898122,  9.70124317, 13.09039566,  6.39238375,\n",
       "       11.77068831,  2.31339788,  6.10345171,  9.57659778, 10.10145801,\n",
       "        3.06920724, 10.30506293,  6.05814489, 10.89995065, 10.47388556,\n",
       "        8.10563088,  7.66990371, 10.9349369 , 11.66375306,  8.53141331,\n",
       "        5.91449937,  5.48660485,  6.29309055,  9.26431806, 10.3089674 ,\n",
       "        3.58676089,  4.86176492,  8.24179477,  9.01773383,  9.00741326,\n",
       "        7.33783194,  6.31904622,  3.33114609, 10.04114758,  7.48598542,\n",
       "       10.5823014 ,  7.99366159,  7.45099917,  7.60075331,  3.51377438,\n",
       "        7.79391759,  5.1983593 ,  6.36139403,  8.21193463, 10.19111714,\n",
       "       13.11339232,  2.10144889,  3.03890401,  7.36265804,  5.02736958,\n",
       "        9.25035198,  9.00741326,  9.01028021,  7.32282834,  5.75722325,\n",
       "       12.55748738,  8.2935457 ,  8.65181875,  3.36613234,  9.60126346,\n",
       "        7.22517615, 11.65003946,  7.2608489 ,  4.63081579,  3.49710176,\n",
       "        7.73804678,  5.78648896,  6.74329524, 11.79871901, 11.05609719,\n",
       "        8.21889017, 10.90725721, 10.33127756,  8.11663795, 10.91489925,\n",
       "       11.38982462,  6.36938709,  9.09827033,  5.01340349,  5.73822312,\n",
       "        2.56432966,  6.17011418,  5.37863208,  9.44962489,  9.88619897,\n",
       "       10.71499484,  7.34982153,  7.49910459, 12.23392011,  4.62282273,\n",
       "        5.72554704,  4.34656677,  6.17011418,  9.3813214 ,  8.52553235,\n",
       "       10.81428805,  6.76116579,  9.16252229,  9.68457055,  3.94695544,\n",
       "        6.78696105,  7.01791018, 12.43856254,  8.80978136,  7.88801633,\n",
       "        9.14637574,  6.17712472,  7.89088329,  5.68543468,  8.87644383,\n",
       "        5.79818253, 10.69096066, 11.00723691,  8.04365144, 10.16931841,\n",
       "        8.13495158, 10.57934239,  5.78352995,  4.32357011,  6.27893386,\n",
       "        6.22243155,  9.4926042 ,  5.23567306,  7.49111153, 13.41431395,\n",
       "        9.94349539,  4.46086358,  4.82045462,  5.17536264,  3.98766223,\n",
       "        3.82699308,  2.47500601,  8.07863769,  7.34982153,  1.90850002,\n",
       "       10.46737309,  8.08061418,  8.20057654,  8.10396186,  3.27083566,\n",
       "        9.92647175,  8.46651192,  7.81502982,  3.30415289,  2.50703325,\n",
       "        9.83221259,  9.56559071,  5.9485031 ,  6.59234316, 11.82171567,\n",
       "        9.59258391,  7.81171979,  5.02041403, 11.66774959,  9.31534543,\n",
       "       12.55053183,  8.14762767,  7.85765811,  8.70580513, 10.82696413,\n",
       "        2.55234007,  8.21661765,  4.0399246 ,  8.14294465,  8.77775413,\n",
       "       11.08016843,  6.95524424,  3.42011872,  9.97517161, 13.68424586,\n",
       "       11.1048891 , 11.57877695,  5.35163889, 12.17662369,  7.82302288,\n",
       "        8.18893797,  8.49350511,  7.55377747,  5.66756412,  3.24384247,\n",
       "        8.19060698,  6.45332568,  7.59109123,  8.17358335,  6.50035652,\n",
       "        7.45379776, 10.71830487, 11.60108712,  6.50503954,  3.82501659,\n",
       "        4.56883635,  7.97186286,  8.52084932,  8.94075079, 10.32208656,\n",
       "        8.45487335,  8.75979151, 11.33115521,  9.33133155,  4.23060095,\n",
       "       11.4288074 ,  9.97813062,  5.52227759,  9.16537587,  8.17757988,\n",
       "       12.52649766,  5.69455731,  9.52028389,  4.52352952, 10.08946842,\n",
       "        8.40088697,  7.79567867,  6.69798841, 10.54331862, 11.03891313,\n",
       "        5.9054688 , 11.65463042, 10.26010712,  5.19732178,  4.13694529,\n",
       "        9.23264185, 11.75801222, 10.13713075,  8.75579498, 11.28584838,\n",
       "        4.87444101,  9.39164198,  6.09545865,  6.49403247, 10.83391968,\n",
       "        9.32333849,  8.45487335,  4.91974783,  7.66574676,  6.02715516,\n",
       "        1.98947959,  7.1631967 ,  4.44186345,  6.95524424,  2.87694486,\n",
       "        3.79003034,  7.566965  , 10.62420613,  7.06686251,  7.0488999 ,\n",
       "        8.30386628, 10.89891313,  7.95399231,  6.55685883,  8.49853916,\n",
       "        8.05796854,  8.36653222, 10.17912755,  9.12926005,  7.54509791,\n",
       "       10.23711046,  8.62882209,  7.31483528,  4.03696559,  7.21085904,\n",
       "        6.5280362 ,  8.15282214,  3.22317332,  8.65650177,  8.07064463,\n",
       "       10.92581426,  5.30233553,  3.24384247,  7.10288628,  6.47103581,\n",
       "        8.10795839,  3.05721764, 10.95724706,  8.7174437 ,  9.38759045,\n",
       "        3.03022445, 10.03315452,  8.4205186 ,  7.20217949,  9.13325658,\n",
       "        9.75010344,  5.07771045,  9.7052397 ,  7.14784209,  6.97320685,\n",
       "       12.27660339,  6.92592353,  5.7784959 ,  6.47735986, 12.03262716,\n",
       "        9.99417174,  9.99816827,  6.85822355,  8.73975386,  7.79602969,\n",
       "       11.26684825,  7.29479763,  9.96649205,  5.87447908,  5.36160844,\n",
       "        7.43312862,  9.63014109,  8.83277802, 10.07515131,  4.84345129,\n",
       "        8.06265157, 10.03548203,  8.9437098 , 10.1269706 , 11.51611102,\n",
       "        5.70255037,  8.5605186 ,  5.81520617,  7.04090684,  7.52210125,\n",
       "       11.39382115,  8.02594131,  7.82899591,  9.01773383,  6.15344156,\n",
       "        7.92300259, 10.16428437,  4.46885664,  5.19367627,  8.00398216,\n",
       "        5.27550277,  6.48603941,  9.14357715,  8.47154597, 10.21742383,\n",
       "        6.4423736 ,  7.92300259,  4.43786692,  5.71522646, 11.1048891 ,\n",
       "       11.4431245 ,  7.0639035 ,  5.72623353,  6.72325759,  4.56883635,\n",
       "        6.19311084,  5.03240362, 10.99291981,  7.18915238, 11.05618925,\n",
       "        7.87301273,  7.90355938, 10.44333892,  9.70939665,  7.44511821,\n",
       "        6.50435305, 11.1318823 ,  4.41555676,  7.28715559,  3.92967932])"
      ]
     },
     "execution_count": 12,
     "metadata": {},
     "output_type": "execute_result"
    }
   ],
   "source": [
    "pred_train"
   ]
  },
  {
   "cell_type": "code",
   "execution_count": 13,
   "id": "db75e7f8",
   "metadata": {},
   "outputs": [],
   "source": [
    "actual_pred_err      = pd.DataFrame()\n",
    "actual_pred_err['Actual']=lcn_train_y\n",
    "actual_pred_err['Pred']  =pred_train\n",
    "actual_pred_err['Error'] =actual_pred_err['Actual']- actual_pred_err['Pred']"
   ]
  },
  {
   "cell_type": "code",
   "execution_count": 14,
   "id": "fab572e6",
   "metadata": {},
   "outputs": [],
   "source": [
    "import numpy as np"
   ]
  },
  {
   "cell_type": "code",
   "execution_count": 15,
   "id": "ae584dd3",
   "metadata": {},
   "outputs": [
    {
     "data": {
      "text/plain": [
       "0.0"
      ]
     },
     "execution_count": 15,
     "metadata": {},
     "output_type": "execute_result"
    }
   ],
   "source": [
    "np.round(actual_pred_err.Error.mean(),10)"
   ]
  },
  {
   "cell_type": "code",
   "execution_count": 16,
   "id": "2bc4e38b",
   "metadata": {},
   "outputs": [
    {
     "data": {
      "text/plain": [
       "-0.09158470670453883"
      ]
     },
     "execution_count": 16,
     "metadata": {},
     "output_type": "execute_result"
    }
   ],
   "source": [
    "actual_pred_err.Error.skew()"
   ]
  },
  {
   "cell_type": "code",
   "execution_count": 17,
   "id": "ee49f6d7",
   "metadata": {},
   "outputs": [
    {
     "data": {
      "text/plain": [
       "-0.2871013345723088"
      ]
     },
     "execution_count": 17,
     "metadata": {},
     "output_type": "execute_result"
    }
   ],
   "source": [
    "actual_pred_err.Error.kurtosis()"
   ]
  },
  {
   "cell_type": "code",
   "execution_count": 18,
   "id": "834a8ad4",
   "metadata": {},
   "outputs": [
    {
     "data": {
      "text/plain": [
       "0.0455984504997593"
      ]
     },
     "execution_count": 18,
     "metadata": {},
     "output_type": "execute_result"
    }
   ],
   "source": [
    "actual_pred_err.Error.median()"
   ]
  },
  {
   "cell_type": "code",
   "execution_count": 19,
   "id": "1073d3da",
   "metadata": {},
   "outputs": [],
   "source": [
    "import matplotlib.pyplot as plt"
   ]
  },
  {
   "cell_type": "code",
   "execution_count": 20,
   "id": "9f2c8959",
   "metadata": {},
   "outputs": [
    {
     "data": {
      "text/plain": [
       "[<matplotlib.lines.Line2D at 0x211489d6950>]"
      ]
     },
     "execution_count": 20,
     "metadata": {},
     "output_type": "execute_result"
    },
    {
     "data": {
      "image/png": "[encoded data removed]",
      "text/plain": [
       "<Figure size 640x480 with 1 Axes>"
      ]
     },
     "metadata": {},
     "output_type": "display_data"
    }
   ],
   "source": [
    "plt.plot(actual_pred_err.Error, '.')"
   ]
  },
  {
   "cell_type": "code",
   "execution_count": 21,
   "id": "e3fc5eba",
   "metadata": {},
   "outputs": [
    {
     "data": {
      "image/png": "[encoded data removed]",
      "text/plain": [
       "<Figure size 640x480 with 1 Axes>"
      ]
     },
     "metadata": {},
     "output_type": "display_data"
    }
   ],
   "source": [
    "plt.hist(actual_pred_err.Error, bins=30, edgecolor = 'yellow');"
   ]
  },
  {
   "cell_type": "code",
   "execution_count": 22,
   "id": "710cbe78",
   "metadata": {},
   "outputs": [
    {
     "data": {
      "text/plain": [
       "<Axes: >"
      ]
     },
     "execution_count": 22,
     "metadata": {},
     "output_type": "execute_result"
    },
    {
     "data": {
      "image/png": "[encoded data removed]",
      "text/plain": [
       "<Figure size 640x480 with 1 Axes>"
      ]
     },
     "metadata": {},
     "output_type": "display_data"
    }
   ],
   "source": [
    "import seaborn as sns\n",
    "sns.boxplot(actual_pred_err.Error)"
   ]
  },
  {
   "cell_type": "code",
   "execution_count": 23,
   "id": "1840e3c8",
   "metadata": {},
   "outputs": [],
   "source": [
    "import numpy as np\n",
    "mse_train = np.mean(np.square(actual_pred_err.Error))\n",
    "rmse_train= np.sqrt(mse_train)\n",
    "mape_train= np.mean(np.abs((actual_pred_err.Error *100/actual_pred_err.Actual)))"
   ]
  },
  {
   "cell_type": "code",
   "execution_count": 24,
   "id": "9c4b6241",
   "metadata": {},
   "outputs": [
    {
     "data": {
      "text/plain": [
       "1.065955485088183"
      ]
     },
     "execution_count": 24,
     "metadata": {},
     "output_type": "execute_result"
    }
   ],
   "source": [
    "mse_train"
   ]
  },
  {
   "cell_type": "code",
   "execution_count": 25,
   "id": "e3c128a8",
   "metadata": {},
   "outputs": [
    {
     "data": {
      "text/plain": [
       "1.0324512022794021"
      ]
     },
     "execution_count": 25,
     "metadata": {},
     "output_type": "execute_result"
    }
   ],
   "source": [
    "rmse_train"
   ]
  },
  {
   "cell_type": "code",
   "execution_count": 26,
   "id": "f3eeca6a",
   "metadata": {},
   "outputs": [
    {
     "data": {
      "text/plain": [
       "13.770162809701858"
      ]
     },
     "execution_count": 26,
     "metadata": {},
     "output_type": "execute_result"
    }
   ],
   "source": [
    "mape_train"
   ]
  },
  {
   "cell_type": "code",
   "execution_count": 27,
   "id": "9aed5c7f",
   "metadata": {},
   "outputs": [
    {
     "data": {
      "text/plain": [
       "86.22983719029814"
      ]
     },
     "execution_count": 27,
     "metadata": {},
     "output_type": "execute_result"
    }
   ],
   "source": [
    "acc = 100 -mape_train\n",
    "acc"
   ]
  },
  {
   "cell_type": "code",
   "execution_count": 28,
   "id": "81a79fff",
   "metadata": {},
   "outputs": [],
   "source": [
    "pred_test = linreg.predict(lcn_test_x)\n",
    "err_test =lcn_test_y - pred_test"
   ]
  },
  {
   "cell_type": "code",
   "execution_count": 29,
   "id": "78c81b60",
   "metadata": {},
   "outputs": [
    {
     "data": {
      "text/plain": [
       "0.9156354971115849"
      ]
     },
     "execution_count": 29,
     "metadata": {},
     "output_type": "execute_result"
    }
   ],
   "source": [
    "mse_test =np.mean(np.square(err_test))\n",
    "mse_test"
   ]
  },
  {
   "cell_type": "code",
   "execution_count": 30,
   "id": "a589d2b3",
   "metadata": {},
   "outputs": [
    {
     "data": {
      "text/plain": [
       "0.9568884454896427"
      ]
     },
     "execution_count": 30,
     "metadata": {},
     "output_type": "execute_result"
    }
   ],
   "source": [
    "rmse_test = np.sqrt(mse_test)\n",
    "rmse_test"
   ]
  },
  {
   "cell_type": "code",
   "execution_count": 31,
   "id": "ae255073",
   "metadata": {},
   "outputs": [
    {
     "data": {
      "text/plain": [
       "11.999842115366077"
      ]
     },
     "execution_count": 31,
     "metadata": {},
     "output_type": "execute_result"
    }
   ],
   "source": [
    "mape_test = np.mean(np.abs(err_test * 100 /lcn_test_y))\n",
    "mape_test"
   ]
  },
  {
   "cell_type": "code",
   "execution_count": 32,
   "id": "82db7fbe",
   "metadata": {},
   "outputs": [
    {
     "data": {
      "text/plain": [
       "88.00015788463392"
      ]
     },
     "execution_count": 32,
     "metadata": {},
     "output_type": "execute_result"
    }
   ],
   "source": [
    "acc_test = 100- mape_test\n",
    "acc_test"
   ]
  },
  {
   "cell_type": "code",
   "execution_count": null,
   "id": "ec648603",
   "metadata": {},
   "outputs": [],
   "source": []
  }
 ],
 "metadata": {
  "kernelspec": {
   "display_name": "Python 3 (ipykernel)",
   "language": "python",
   "name": "python3"
  },
  "language_info": {
   "codemirror_mode": {
    "name": "ipython",
    "version": 3
   },
   "file_extension": ".py",
   "mimetype": "text/x-python",
   "name": "python",
   "nbconvert_exporter": "python",
   "pygments_lexer": "ipython3",
   "version": "3.11.4"
  }
 },
 "nbformat": 4,
 "nbformat_minor": 5
}
